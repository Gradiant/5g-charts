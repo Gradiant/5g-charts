{
 "cells": [
  {
   "cell_type": "code",
   "execution_count": 3,
   "id": "98283e7a-710a-4ec2-b787-0331f9d86151",
   "metadata": {},
   "outputs": [],
   "source": [
    "L = []\n",
    "for i in range(1,1350):\n",
    "    if(i>=0 and i<10):\n",
    "        L.append(f\"open5gs-dbctl add_ue_with_slice 99970000000000{i} 465B5CE8B199B49FAA5F0A2EE238A6BC E8ED289DEBA952E4283B54E88E6183CA internet 1 111111 \\n\")\n",
    "    \n",
    "    if(i>=10 and i<100):\n",
    "        L.append(f\"open5gs-dbctl add_ue_with_slice 9997000000000{i} 465B5CE8B199B49FAA5F0A2EE238A6BC E8ED289DEBA952E4283B54E88E6183CA internet 1 111111 \\n\")\n",
    "        \n",
    "    if(i>= 100 and i<1000):\n",
    "        L.append(f\"open5gs-dbctl add_ue_with_slice 999700000000{i} 465B5CE8B199B49FAA5F0A2EE238A6BC E8ED289DEBA952E4283B54E88E6183CA internet 1 111111 \\n\")\n",
    "    \n",
    "    if(i>= 1000 and i<10000):\n",
    "        L.append(f\"open5gs-dbctl add_ue_with_slice 99970000000{i} 465B5CE8B199B49FAA5F0A2EE238A6BC E8ED289DEBA952E4283B54E88E6183CA internet 1 111111 \\n\")\n",
    "    \n",
    "    if(i>0 and i%50 ==0):\n",
    "         L.append(\"sleep 2 \\n\")\n",
    "        \n",
    "    "
   ]
  },
  {
   "cell_type": "code",
   "execution_count": 4,
   "id": "3d80a183-287c-4de1-a717-2e8c1736e87f",
   "metadata": {
    "tags": []
   },
   "outputs": [],
   "source": [
    "# print(L)"
   ]
  },
  {
   "cell_type": "code",
   "execution_count": 5,
   "id": "847fde6c-28d6-4018-9cd3-2f19f5418f55",
   "metadata": {},
   "outputs": [],
   "source": [
    "file1 = open(\"populate.sh\", \"w\")"
   ]
  },
  {
   "cell_type": "code",
   "execution_count": 6,
   "id": "eb480161-9902-4dd3-ab1b-0385b6e53f6a",
   "metadata": {},
   "outputs": [],
   "source": [
    "file1.writelines(L)"
   ]
  },
  {
   "cell_type": "code",
   "execution_count": 7,
   "id": "7cfa611c-faf7-46a1-a793-1d5cbbcf5940",
   "metadata": {},
   "outputs": [],
   "source": [
    "file1.close()"
   ]
  },
  {
   "cell_type": "code",
   "execution_count": 14,
   "id": "8bcf03e9-7f7d-43ed-92cc-a284d2e54df5",
   "metadata": {},
   "outputs": [],
   "source": [
    "import random \n",
    "\n",
    "num_of_ues = 400\n",
    "list_of_websites_to_ping = [\"buzzfeed.com\",\"asos.com\",\"indiatimes.com\",\"tesla.com\",\"nbc.com\",\"reuters.com\",\"npr.org\",\"wsj.com\",\"washingtonpost.com\",\"foxnews.com\",\"abcnews.go.com\",\"bostonherald.com\"]\n",
    "num_of_pings = 10000\n",
    "packet_size_bytes = 60000\n",
    "\n",
    "script = []\n",
    "\n",
    "\n",
    "for i in range(0,num_of_ues):\n",
    "     rando_website = random.choice(list_of_websites_to_ping)\n",
    "     interval  = random.randint(0, 10) \n",
    "     script.append(f\"ping -I uesimtun{i} {rando_website}  -s {packet_size_bytes} -i {interval} -c {num_of_pings} & \\n\")\n",
    "    "
   ]
  },
  {
   "cell_type": "code",
   "execution_count": 15,
   "id": "3309217c-e87d-4725-968a-955a1766e226",
   "metadata": {
    "tags": []
   },
   "outputs": [],
   "source": [
    "# print(L)"
   ]
  },
  {
   "cell_type": "code",
   "execution_count": 16,
   "id": "5f425bc9-f485-43d1-876f-f3d21901ede7",
   "metadata": {},
   "outputs": [],
   "source": [
    "file2 = open(\"ping.sh\", \"w\")\n",
    "file2.writelines(script)\n",
    "file2.close()"
   ]
  },
  {
   "cell_type": "code",
   "execution_count": 25,
   "id": "ebc06353-b486-4ee2-b4eb-101debfc0b04",
   "metadata": {},
   "outputs": [],
   "source": [
    "import random \n",
    "\n",
    "list_of_websites_to_ping = [\"buzzfeed.com\",\"asos.com\",\"indiatimes.com\",\"tesla.com\",\"nbc.com\",\"reuters.com\",\"npr.org\",\"wsj.com\",\"washingtonpost.com\",\"foxnews.com\",\"abcnews.go.com\",\"bostonherald.com\"]\n",
    "num_of_curls = 10000\n",
    "script = []\n",
    "num_of_ues = 400\n",
    "\n",
    "\n",
    "for i in range(0,num_of_ues):\n",
    "     rando_website = random.choice(list_of_websites_to_ping)\n",
    "     interval  = random.randint(0, 10) \n",
    "     script.append(f\"watch -n{interval} curl --output /dev/null --interface uesimtun{i} https://www.{rando_website} & \\n\")\n",
    "    "
   ]
  },
  {
   "cell_type": "code",
   "execution_count": 26,
   "id": "51535aab-ed63-468f-8c8b-dc9566dae10b",
   "metadata": {},
   "outputs": [],
   "source": [
    "file3 = open(\"curl.sh\", \"w\")\n",
    "file3.writelines(script)\n",
    "file3.close()"
   ]
  },
  {
   "cell_type": "code",
   "execution_count": 158,
   "id": "f9d6c68f-6225-4414-b596-f43b083dcf85",
   "metadata": {},
   "outputs": [],
   "source": []
  },
  {
   "cell_type": "code",
   "execution_count": 159,
   "id": "df50f9b4-8de1-42fa-9526-7cf863167980",
   "metadata": {},
   "outputs": [],
   "source": []
  },
  {
   "cell_type": "code",
   "execution_count": null,
   "id": "3a65f241-45dd-40d3-9472-5048199a6911",
   "metadata": {},
   "outputs": [],
   "source": []
  }
 ],
 "metadata": {
  "kernelspec": {
   "display_name": "Python 3",
   "language": "python",
   "name": "python3"
  },
  "language_info": {
   "codemirror_mode": {
    "name": "ipython",
    "version": 3
   },
   "file_extension": ".py",
   "mimetype": "text/x-python",
   "name": "python",
   "nbconvert_exporter": "python",
   "pygments_lexer": "ipython3",
   "version": "3.8.9"
  },
  "vscode": {
   "interpreter": {
    "hash": "31f2aee4e71d21fbe5cf8b01ff0e069b9275f58929596ceb00d14d90e3e16cd6"
   }
  }
 },
 "nbformat": 4,
 "nbformat_minor": 5
}
