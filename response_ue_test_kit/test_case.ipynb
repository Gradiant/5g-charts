{
 "cells": [
  {
   "cell_type": "code",
   "execution_count": 15,
   "metadata": {},
   "outputs": [],
   "source": [
    "import json\n",
    "\n",
    "master_test_file = open('test_case_values.json')\n",
    "master_test_file = json.load(master_test_file)"
   ]
  },
  {
   "cell_type": "code",
   "execution_count": 18,
   "metadata": {},
   "outputs": [
    {
     "data": {
      "text/plain": [
       "{'ueBatchSize': 400,\n",
       " 'webisteList': ['buzzfeed.com',\n",
       "  'asos.com',\n",
       "  'indiatimes.com',\n",
       "  'tesla.com',\n",
       "  'nbc.com',\n",
       "  'reuters.com',\n",
       "  'npr.org',\n",
       "  'wsj.com',\n",
       "  'washingtonpost.com',\n",
       "  'foxnews.com',\n",
       "  'abcnews.go.com',\n",
       "  'bostonherald.com'],\n",
       " 'packet_size_bytes': 60000,\n",
       " 'num_of_pings': 10000}"
      ]
     },
     "execution_count": 18,
     "metadata": {},
     "output_type": "execute_result"
    }
   ],
   "source": [
    "data_emulation_values = master_test_file[\"testCases\"][\"dataRequestEmulation\"]\n",
    "data_emulation_values"
   ]
  },
  {
   "cell_type": "code",
   "execution_count": 3,
   "metadata": {},
   "outputs": [],
   "source": [
    "L = []\n",
    "for i in range(1,1350):\n",
    "    if(i>=0 and i<10):\n",
    "        L.append(f\"open5gs-dbctl add_ue_with_slice 99970000000000{i} 465B5CE8B199B49FAA5F0A2EE238A6BC E8ED289DEBA952E4283B54E88E6183CA internet 1 111111 \\n\")\n",
    "    \n",
    "    if(i>=10 and i<100):\n",
    "        L.append(f\"open5gs-dbctl add_ue_with_slice 9997000000000{i} 465B5CE8B199B49FAA5F0A2EE238A6BC E8ED289DEBA952E4283B54E88E6183CA internet 1 111111 \\n\")\n",
    "        \n",
    "    if(i>= 100 and i<1000):\n",
    "        L.append(f\"open5gs-dbctl add_ue_with_slice 999700000000{i} 465B5CE8B199B49FAA5F0A2EE238A6BC E8ED289DEBA952E4283B54E88E6183CA internet 1 111111 \\n\")\n",
    "    \n",
    "    if(i>= 1000 and i<10000):\n",
    "        L.append(f\"open5gs-dbctl add_ue_with_slice 99970000000{i} 465B5CE8B199B49FAA5F0A2EE238A6BC E8ED289DEBA952E4283B54E88E6183CA internet 1 111111 \\n\")\n",
    "    \n",
    "    if(i>0 and i%50 ==0):\n",
    "         L.append(\"sleep 2 \\n\")\n",
    "        \n",
    "    "
   ]
  },
  {
   "cell_type": "code",
   "execution_count": 4,
   "metadata": {
    "tags": []
   },
   "outputs": [],
   "source": [
    "# print(L)"
   ]
  },
  {
   "cell_type": "code",
   "execution_count": 5,
   "metadata": {},
   "outputs": [],
   "source": [
    "file1 = open(\"populate.sh\", \"w\")"
   ]
  },
  {
   "cell_type": "code",
   "execution_count": 6,
   "metadata": {},
   "outputs": [],
   "source": [
    "file1.writelines(L)"
   ]
  },
  {
   "cell_type": "code",
   "execution_count": 7,
   "metadata": {},
   "outputs": [],
   "source": [
    "file1.close()"
   ]
  },
  {
   "cell_type": "code",
   "execution_count": 14,
   "metadata": {},
   "outputs": [],
   "source": [
    "import random \n",
    "\n",
    "num_of_ues = 400\n",
    "list_of_websites_to_ping = [\"buzzfeed.com\",\"asos.com\",\"indiatimes.com\",\"tesla.com\",\"nbc.com\",\"reuters.com\",\"npr.org\",\"wsj.com\",\"washingtonpost.com\",\"foxnews.com\",\"abcnews.go.com\",\"bostonherald.com\"]\n",
    "num_of_pings = 10000\n",
    "packet_size_bytes = 60000\n",
    "\n",
    "script = []\n",
    "\n",
    "\n",
    "for i in range(0,num_of_ues):\n",
    "     rando_website = random.choice(list_of_websites_to_ping)\n",
    "     interval  = random.randint(0, 10) \n",
    "     script.append(f\"ping -I uesimtun{i} {rando_website}  -s {packet_size_bytes} -i {interval} -c {num_of_pings} & \\n\")\n",
    "    "
   ]
  },
  {
   "cell_type": "code",
   "execution_count": 15,
   "metadata": {
    "tags": []
   },
   "outputs": [],
   "source": [
    "# print(L)"
   ]
  },
  {
   "cell_type": "code",
   "execution_count": 16,
   "metadata": {},
   "outputs": [],
   "source": [
    "file2 = open(\"ping.sh\", \"w\")\n",
    "file2.writelines(script)\n",
    "file2.close()"
   ]
  },
  {
   "cell_type": "code",
   "execution_count": 25,
   "metadata": {},
   "outputs": [],
   "source": [
    "import random \n",
    "\n",
    "list_of_websites_to_ping = [\"buzzfeed.com\",\"asos.com\",\"indiatimes.com\",\"tesla.com\",\"nbc.com\",\"reuters.com\",\"npr.org\",\"wsj.com\",\"washingtonpost.com\",\"foxnews.com\",\"abcnews.go.com\",\"bostonherald.com\"]\n",
    "num_of_curls = 10000\n",
    "script = []\n",
    "num_of_ues = 400\n",
    "\n",
    "\n",
    "for i in range(0,num_of_ues):\n",
    "     rando_website = random.choice(list_of_websites_to_ping)\n",
    "     interval  = random.randint(0, 10) \n",
    "     script.append(f\"watch -n{interval} curl --output /dev/null --interface uesimtun{i} https://www.{rando_website} & \\n\")\n",
    "    "
   ]
  },
  {
   "cell_type": "code",
   "execution_count": 26,
   "metadata": {},
   "outputs": [],
   "source": [
    "file3 = open(\"curl.sh\", \"w\")\n",
    "file3.writelines(script)\n",
    "file3.close()"
   ]
  },
  {
   "cell_type": "code",
   "execution_count": 158,
   "metadata": {},
   "outputs": [],
   "source": []
  },
  {
   "cell_type": "code",
   "execution_count": 159,
   "metadata": {},
   "outputs": [],
   "source": []
  },
  {
   "cell_type": "code",
   "execution_count": null,
   "metadata": {},
   "outputs": [],
   "source": []
  }
 ],
 "metadata": {
  "instance_type": "ml.t3.medium",
  "kernelspec": {
   "display_name": "Python 3 (Data Science)",
   "language": "python",
   "name": "python3__SAGEMAKER_INTERNAL__arn:aws:sagemaker:us-west-2:236514542706:image/datascience-1.0"
  },
  "language_info": {
   "codemirror_mode": {
    "name": "ipython",
    "version": 3
   },
   "file_extension": ".py",
   "mimetype": "text/x-python",
   "name": "python",
   "nbconvert_exporter": "python",
   "pygments_lexer": "ipython3",
   "version": "3.7.10"
  },
  "vscode": {
   "interpreter": {
    "hash": "31f2aee4e71d21fbe5cf8b01ff0e069b9275f58929596ceb00d14d90e3e16cd6"
   }
  }
 },
 "nbformat": 4,
 "nbformat_minor": 5
}
